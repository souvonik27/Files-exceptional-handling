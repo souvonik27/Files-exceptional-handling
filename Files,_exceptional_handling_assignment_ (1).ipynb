{
  "nbformat": 4,
  "nbformat_minor": 0,
  "metadata": {
    "colab": {
      "provenance": []
    },
    "kernelspec": {
      "name": "python3",
      "display_name": "Python 3"
    },
    "language_info": {
      "name": "python"
    }
  },
  "cells": [
    {
      "cell_type": "markdown",
      "source": [
        "# Files, exceptional handling,\n",
        "# logging and memory\n",
        "# management theory and practical questions and answers:"
      ],
      "metadata": {
        "id": "MEfWaqjnjGPX"
      }
    },
    {
      "cell_type": "markdown",
      "source": [
        "1. What is the difference between interpreted and compiled languages?\n",
        "\n",
        "-- Compiled languages translate the entire source code into machine code before execution, resulting in faster performance but requiring a compilation step (e.g., C, C++). Interpreted languages, on the other hand, execute code line by line using an interpreter, making them easier to test and modify but generally slower (e.g., Python, JavaScript).\n",
        "\n",
        "2. What is exception handling in Python?\n",
        "\n",
        "-- Exception handling in Python is a way to manage errors that occur during program execution without crashing the entire program. It uses keywords like `try`, `except`, `else`, and `finally` to catch and handle exceptions gracefully. The code inside the `try` block runs first, and if an error occurs, it’s caught by the `except` block; `else` runs if no error occurs, and `finally` runs no matter what—useful for cleanup tasks.\n",
        "\n",
        "3. What is the purpose of the finally block in exception handling?\n",
        "\n",
        "-- The `finally` block in Python is used to execute code **no matter what happens**—whether an exception occurs or not. It’s typically used for cleanup actions like closing files, releasing resources, or disconnecting from a database, ensuring that essential tasks run even if an error interrupts the program.\n",
        "\n",
        "4. What is logging in Python?\n",
        "\n",
        "-- Logging in Python is the process of recording events, errors, and status messages from a program to help monitor its behavior and diagnose issues. The built-in `logging` module lets you track what’s happening in your code by writing logs to the console or a file, using levels like `DEBUG`, `INFO`, `WARNING`, `ERROR`, and `CRITICAL` to indicate the importance of each message.\n",
        "\n",
        "5. What is the significance of the __del__ method in Python?\n",
        "\n",
        "-- The `__del__` method in Python is a **destructor** that’s automatically called when an object is about to be destroyed or garbage-collected. It’s mainly used to perform cleanup tasks—like closing files or releasing external resources—before the object is removed from memory. However, it should be used sparingly since Python’s garbage collection may delay or skip calling it in some cases.\n",
        "\n",
        "6. What is the difference between import and from ... import in Python?\n",
        "\n",
        "-- The `import` statement brings in the **entire module**, requiring you to use the module name to access its functions or variables (e.g., `import math; math.sqrt(4)`).\n",
        "The `from ... import` statement imports **specific parts** of a module directly into your namespace, letting you use them without the module prefix (e.g., `from math import sqrt; sqrt(4)`).\n",
        "\n",
        "\n",
        "**7. How can you handle multiple exceptions in Python?**\n",
        " -- In Python, you can handle multiple exceptions by using several `except` blocks, each targeting a specific exception type, or by catching multiple exceptions in a single `except` using parentheses. This allows you to respond differently depending on the error, making your code more robust and easier to debug, while preventing the program from crashing when unexpected issues arise.\n",
        "\n",
        "**8. What is the purpose of the with statement when handling files in Python?**\n",
        " -- The `with` statement is used to simplify file handling by automatically opening and closing a file. It ensures that the file is properly closed after the block of code is executed, even if an exception occurs, which helps prevent resource leaks and makes the code cleaner and safer compared to manually calling `file.close()`.\n",
        "\n",
        "**9. What is the difference between multithreading and multiprocessing?**\n",
        " -- Multithreading runs multiple threads within the same process and shares memory, making it suitable for I/O-bound tasks, while multiprocessing creates separate processes with independent memory spaces, ideal for CPU-bound tasks. The choice affects performance, resource usage, and how data is shared or synchronized between tasks.\n",
        "\n",
        "**10. What are the advantages of using logging in a program?**\n",
        " -- Logging allows a program to record events, errors, and informational messages while it runs, without interrupting its execution. It helps track the flow of execution, debug issues, monitor performance, and maintain records for future analysis. Logging also provides adjustable levels, so critical errors or detailed debug information can be captured selectively.\n",
        "\n",
        "**11. What is memory management in Python?**\n",
        " -- Memory management in Python refers to the automatic allocation and deallocation of memory for objects using reference counting and garbage collection. It ensures that objects no longer in use are removed from memory, freeing resources, preventing leaks, and maintaining the program’s efficiency without requiring manual intervention from the programmer.\n",
        "\n",
        "**12. What are the basic steps involved in exception handling in Python?**\n",
        " -- Exception handling in Python involves wrapping potentially error-prone code in a `try` block, using `except` to catch and respond to errors, `else` to run code if no exception occurs, and `finally` to execute cleanup actions. This structured approach ensures programs handle errors gracefully while maintaining normal operation whenever possible.\n",
        "\n",
        "**13. Why is memory management important in Python?**\n",
        " -- Memory management is crucial because it prevents memory leaks, optimizes performance, and ensures efficient use of system resources. Without proper management, programs could consume excessive memory, slow down, or crash, especially when handling large data structures or long-running applications.\n",
        "\n",
        "**14. What is the role of try and except in exception handling?**\n",
        " -- The `try` block contains code that might raise an exception, while the `except` block defines how to respond to specific errors. This separation allows programs to handle runtime problems gracefully, preventing crashes and enabling developers to log errors, notify users, or recover from unexpected situations.\n",
        "\n",
        "**15. How does Python's garbage collection system work?**\n",
        " -- Python’s garbage collection system automatically manages memory by tracking object references. When an object’s reference count drops to zero, it is deleted. Python also detects and cleans up cyclic references using its cyclic garbage collector. This system ensures efficient memory use without requiring manual deallocation by the programmer.\n",
        "\n",
        "**16. What is the purpose of the else block in exception handling?**\n",
        " -- The `else` block in Python runs only if the `try` block completes without raising any exceptions. It provides a clean way to separate normal execution code from error-handling code, making the program more readable and avoiding unnecessary nesting of code within the `try` block.\n",
        "\n",
        "**17. What are the common logging levels in Python?**\n",
        " -- Python’s logging module defines levels such as `DEBUG`, `INFO`, `WARNING`, `ERROR`, and `CRITICAL`, allowing developers to categorize messages by severity. This helps filter logs for troubleshooting, monitoring, and reporting, making it easier to track minor issues or focus on critical failures in large applications.\n",
        "\n",
        "**18. What is the difference between os.fork() and multiprocessing in Python?**\n",
        " -- `os.fork()` creates a child process by duplicating the current process and is limited to Unix systems, while the `multiprocessing` module provides a cross-platform interface to spawn independent processes, manage them, and share data using queues or pipes. Multiprocessing is more versatile and safer for parallel computation in modern Python programs.\n",
        "\n",
        "**19. What is the importance of closing a file in Python?**\n",
        " -- Closing a file releases system resources associated with it and ensures all buffered data is written to disk. Failing to close files can lead to memory leaks, data loss, or file corruption, making proper file management essential for program reliability and system stability.\n",
        "\n",
        "**20. What is the difference between file.read() and file.readline() in Python?**\n",
        " -- `file.read()` reads the entire file or a specified number of bytes at once, while `file.readline()` reads a single line from the file at a time. Using `readline()` is useful for processing large files line by line, reducing memory usage compared to reading the whole file at once.\n",
        "\n",
        "**21. What is the logging module in Python used for?**\n",
        " -- The logging module provides a flexible framework to record messages from a program, including errors, warnings, or general information. It supports multiple output destinations such as console, files, or remote servers, and allows filtering messages by severity level, which is invaluable for debugging and monitoring applications.\n",
        "\n",
        "**22. What is the os module in Python used for in file handling?**\n",
        " -- The `os` module allows Python programs to interact with the operating system, enabling tasks like creating, deleting, and navigating directories, checking file properties, and managing file paths. It provides essential tools for building scripts that manipulate files and directories across platforms.\n",
        "\n",
        "**23. What are the challenges associated with memory management in Python?**\n",
        " -- Challenges include dealing with circular references that the reference counting system cannot free, avoiding memory leaks caused by lingering global objects, and efficiently handling large datasets in memory-intensive applications. Developers must also balance performance and resource usage when objects are created and destroyed frequently.\n",
        "\n",
        "**24. How do you raise an exception manually in Python?**\n",
        " -- You can raise an exception manually using the `raise` keyword followed by an exception type and an optional message, for example, `raise ValueError(\"Invalid input\")`. This allows you to enforce constraints, signal errors explicitly, and control program flow in a structured way.\n",
        "\n",
        "**25. Why is it important to use multithreading in certain applications?**\n",
        " -- Multithreading is important for improving responsiveness and performance in I/O-bound or concurrent tasks, such as web servers, GUI applications, or file operations. By running multiple threads simultaneously, programs can perform tasks without waiting for slower operations to complete, making them faster and more efficient.\n",
        "\n"
      ],
      "metadata": {
        "id": "OvAl32olj757"
      }
    },
    {
      "cell_type": "markdown",
      "source": [
        "# **Practical questions and answers:**"
      ],
      "metadata": {
        "id": "ZkMk4XyKnbRc"
      }
    },
    {
      "cell_type": "markdown",
      "source": [
        "# 1. How can you open a file for writing in Python and write a string to it?\n"
      ],
      "metadata": {
        "id": "iQ8Q_5xpp752"
      }
    },
    {
      "cell_type": "code",
      "source": [
        "# Answer:\n",
        "# You can use the 'open' function with mode 'w' to write to a file.\n",
        "with open(\"output.txt\", \"w\") as file:\n",
        "    file.write(\"Hello, this is a test string.\\n\")\n"
      ],
      "metadata": {
        "id": "oGEeE_gjp86x"
      },
      "execution_count": null,
      "outputs": []
    },
    {
      "cell_type": "markdown",
      "source": [
        "# 2. Write a Python program to read the contents of a file and print each line.\n"
      ],
      "metadata": {
        "id": "kK6vAV0zqCKx"
      }
    },
    {
      "cell_type": "code",
      "source": [
        "# Answer:\n",
        "with open(\"output.txt\", \"r\") as file:\n",
        "    for line in file:\n",
        "        print(line.strip())\n"
      ],
      "metadata": {
        "colab": {
          "base_uri": "https://localhost:8080/"
        },
        "id": "XRYtgt3yqFqN",
        "outputId": "f1eca19d-a2a0-495e-9dfc-a723bb9fa301"
      },
      "execution_count": null,
      "outputs": [
        {
          "output_type": "stream",
          "name": "stdout",
          "text": [
            "Hello, this is a test string.\n"
          ]
        }
      ]
    },
    {
      "cell_type": "markdown",
      "source": [
        "# 3. How would you handle a case where the file doesn't exist while trying to open it for reading?\n"
      ],
      "metadata": {
        "id": "0ecqWnWlqJ2g"
      }
    },
    {
      "cell_type": "code",
      "source": [
        "# Answer:\n",
        "try:\n",
        "    with open(\"nonexistent.txt\", \"r\") as file:\n",
        "        content = file.read()\n",
        "except FileNotFoundError:\n",
        "    print(\"File does not exist.\")\n"
      ],
      "metadata": {
        "colab": {
          "base_uri": "https://localhost:8080/"
        },
        "id": "Q_KSgIJUqMmW",
        "outputId": "afc658ff-7390-42cf-987c-7aa8242d41b2"
      },
      "execution_count": null,
      "outputs": [
        {
          "output_type": "stream",
          "name": "stdout",
          "text": [
            "File does not exist.\n"
          ]
        }
      ]
    },
    {
      "cell_type": "markdown",
      "source": [
        "# 4. Write a Python script that reads from one file and writes its content to another file.\n"
      ],
      "metadata": {
        "id": "Ihn036QzqPjD"
      }
    },
    {
      "cell_type": "code",
      "source": [
        "# Answer:\n",
        "with open(\"output.txt\", \"r\") as source, open(\"copy.txt\", \"w\") as dest:\n",
        "    for line in source:\n",
        "        dest.write(line)\n"
      ],
      "metadata": {
        "id": "nuADnTvFqR0G"
      },
      "execution_count": null,
      "outputs": []
    },
    {
      "cell_type": "markdown",
      "source": [
        "# 5. How would you catch and handle division by zero error in Python?\n"
      ],
      "metadata": {
        "id": "OTYWj3_8qUtj"
      }
    },
    {
      "cell_type": "code",
      "source": [
        "# Answer:\n",
        "try:\n",
        "    result = 10 / 0\n",
        "except ZeroDivisionError:\n",
        "    print(\"Cannot divide by zero.\")\n"
      ],
      "metadata": {
        "colab": {
          "base_uri": "https://localhost:8080/"
        },
        "id": "6WN1Ay-4qnBU",
        "outputId": "8faf9d86-cd5c-488e-c125-ee6517ff054a"
      },
      "execution_count": null,
      "outputs": [
        {
          "output_type": "stream",
          "name": "stdout",
          "text": [
            "Cannot divide by zero.\n"
          ]
        }
      ]
    },
    {
      "cell_type": "markdown",
      "source": [
        "# 6. Write a Python program that logs an error message to a log file when a division by zero exception occurs.\n"
      ],
      "metadata": {
        "id": "4-AVf9GAqpfY"
      }
    },
    {
      "cell_type": "code",
      "source": [
        "import logging\n",
        "\n",
        "# Setup logging\n",
        "logging.basicConfig(filename=\"error.log\", level=logging.ERROR)\n",
        "\n",
        "try:\n",
        "    result = 10 / 0\n",
        "except ZeroDivisionError as e:\n",
        "    logging.error(\"Division by zero occurred: %s\", e)\n"
      ],
      "metadata": {
        "colab": {
          "base_uri": "https://localhost:8080/"
        },
        "id": "GjATjImUqs7c",
        "outputId": "f0ec8425-ee1e-488b-a96c-6c8fb27b021c"
      },
      "execution_count": null,
      "outputs": [
        {
          "output_type": "stream",
          "name": "stderr",
          "text": [
            "ERROR:root:Division by zero occurred: division by zero\n"
          ]
        }
      ]
    },
    {
      "cell_type": "markdown",
      "source": [
        "# 7. How do you log information at different levels (INFO, ERROR, WARNING) in Python using the logging module?\n"
      ],
      "metadata": {
        "id": "G-Kfv84pqvhl"
      }
    },
    {
      "cell_type": "code",
      "source": [
        "import logging\n",
        "\n",
        "logging.basicConfig(level=logging.DEBUG)\n",
        "\n",
        "logging.info(\"This is an info message.\")\n",
        "logging.warning(\"This is a warning message.\")\n",
        "logging.error(\"This is an error message.\")\n"
      ],
      "metadata": {
        "colab": {
          "base_uri": "https://localhost:8080/"
        },
        "id": "RMzWAHTPq0Mp",
        "outputId": "65dd8ca3-8744-4518-a6b0-766b81a0e7a3"
      },
      "execution_count": null,
      "outputs": [
        {
          "output_type": "stream",
          "name": "stderr",
          "text": [
            "WARNING:root:This is a warning message.\n",
            "ERROR:root:This is an error message.\n"
          ]
        }
      ]
    },
    {
      "cell_type": "markdown",
      "source": [
        "# 8. Write a program to handle a file opening error using exception handling.\n"
      ],
      "metadata": {
        "id": "zN_qI7hiq3rp"
      }
    },
    {
      "cell_type": "code",
      "source": [
        "try:\n",
        "    with open(\"missing.txt\", \"r\") as file:\n",
        "        data = file.read()\n",
        "except FileNotFoundError:\n",
        "    print(\"File not found. Please check the filename.\")\n"
      ],
      "metadata": {
        "colab": {
          "base_uri": "https://localhost:8080/"
        },
        "id": "6vAT9xZPq5y_",
        "outputId": "96f4113c-e8ea-45c5-8b9b-94b1b317f0d9"
      },
      "execution_count": null,
      "outputs": [
        {
          "output_type": "stream",
          "name": "stdout",
          "text": [
            "File not found. Please check the filename.\n"
          ]
        }
      ]
    },
    {
      "cell_type": "markdown",
      "source": [
        "# 9. How can you read a file line by line and store its content in a list in Python?\n"
      ],
      "metadata": {
        "id": "ePH7reyxq8T5"
      }
    },
    {
      "cell_type": "code",
      "source": [
        "lines = []\n",
        "with open(\"output.txt\", \"r\") as file:\n",
        "    lines = file.readlines()\n",
        "lines = [line.strip() for line in lines]\n",
        "print(lines)\n"
      ],
      "metadata": {
        "colab": {
          "base_uri": "https://localhost:8080/"
        },
        "id": "_1xR0nqQq-lz",
        "outputId": "07907adc-9eed-4f97-f6e6-6e997b3d4397"
      },
      "execution_count": null,
      "outputs": [
        {
          "output_type": "stream",
          "name": "stdout",
          "text": [
            "['Hello, this is a test string.']\n"
          ]
        }
      ]
    },
    {
      "cell_type": "markdown",
      "source": [
        "# 10. How can you append data to an existing file in Python?\n"
      ],
      "metadata": {
        "id": "X_YjIStIrBvq"
      }
    },
    {
      "cell_type": "code",
      "source": [
        "with open(\"output.txt\", \"a\") as file:\n",
        "    file.write(\"This line is appended.\\n\")\n"
      ],
      "metadata": {
        "id": "S0RvDNWmrEu2"
      },
      "execution_count": null,
      "outputs": []
    },
    {
      "cell_type": "markdown",
      "source": [
        "# 11. Write a Python program that uses a try-except block to handle an error when attempting to access a dictionary key that doesn't exist.\n"
      ],
      "metadata": {
        "id": "FKZbkGgorICT"
      }
    },
    {
      "cell_type": "code",
      "source": [
        "my_dict = {\"a\": 1, \"b\": 2}\n",
        "try:\n",
        "    print(my_dict[\"c\"])\n",
        "except KeyError:\n",
        "    print(\"Key does not exist.\")\n"
      ],
      "metadata": {
        "colab": {
          "base_uri": "https://localhost:8080/"
        },
        "id": "ghQT7Lb2rKhX",
        "outputId": "f534d393-8685-4770-a91e-c8cec23cdff4"
      },
      "execution_count": null,
      "outputs": [
        {
          "output_type": "stream",
          "name": "stdout",
          "text": [
            "Key does not exist.\n"
          ]
        }
      ]
    },
    {
      "cell_type": "markdown",
      "source": [
        "# 12. Write a program that demonstrates using multiple except blocks to handle different types of exceptions.\n"
      ],
      "metadata": {
        "id": "oj2ahOVprNH4"
      }
    },
    {
      "cell_type": "code",
      "source": [
        "try:\n",
        "    x = int(\"abc\")\n",
        "    result = 10 / 0\n",
        "except ValueError:\n",
        "    print(\"ValueError caught\")\n",
        "except ZeroDivisionError:\n",
        "    print(\"ZeroDivisionError caught\")\n"
      ],
      "metadata": {
        "colab": {
          "base_uri": "https://localhost:8080/"
        },
        "id": "4bJkSYKGrPbs",
        "outputId": "7e1e7c15-3e0b-4d24-a432-9a57d6764bee"
      },
      "execution_count": null,
      "outputs": [
        {
          "output_type": "stream",
          "name": "stdout",
          "text": [
            "ValueError caught\n"
          ]
        }
      ]
    },
    {
      "cell_type": "markdown",
      "source": [
        "# 13. How would you check if a file exists before attempting to read it in Python?\n"
      ],
      "metadata": {
        "id": "0cqFMlDgrSUS"
      }
    },
    {
      "cell_type": "code",
      "source": [
        "import os\n",
        "\n",
        "if os.path.exists(\"output.txt\"):\n",
        "    with open(\"output.txt\", \"r\") as file:\n",
        "        print(file.read())\n",
        "else:\n",
        "    print(\"File does not exist.\")\n"
      ],
      "metadata": {
        "colab": {
          "base_uri": "https://localhost:8080/"
        },
        "id": "dXBq2tD4rVBi",
        "outputId": "9a3f1e05-2665-47bc-c9c5-a62918847ff0"
      },
      "execution_count": null,
      "outputs": [
        {
          "output_type": "stream",
          "name": "stdout",
          "text": [
            "Hello, this is a test string.\n",
            "This line is appended.\n",
            "\n"
          ]
        }
      ]
    },
    {
      "cell_type": "markdown",
      "source": [
        "# 14. Write a program that uses the logging module to log both informational and error messages.\n"
      ],
      "metadata": {
        "id": "alu_Gvn7rX-A"
      }
    },
    {
      "cell_type": "code",
      "source": [
        "import logging\n",
        "\n",
        "logging.basicConfig(filename=\"app.log\", level=logging.DEBUG)\n",
        "\n",
        "logging.info(\"This is an informational message.\")\n",
        "try:\n",
        "    result = 10 / 0\n",
        "except ZeroDivisionError as e:\n",
        "    logging.error(\"Error occurred: %s\", e)\n"
      ],
      "metadata": {
        "colab": {
          "base_uri": "https://localhost:8080/"
        },
        "id": "q2hXg-1yrbYZ",
        "outputId": "e16f1aac-1fa7-40ed-ad7a-7b5cdcfbd8b1"
      },
      "execution_count": null,
      "outputs": [
        {
          "output_type": "stream",
          "name": "stderr",
          "text": [
            "ERROR:root:Error occurred: division by zero\n"
          ]
        }
      ]
    },
    {
      "cell_type": "markdown",
      "source": [
        "# 15. Write a Python program that prints the content of a file and handles the case when the file is empty.\n"
      ],
      "metadata": {
        "id": "CFYUwbCRreM5"
      }
    },
    {
      "cell_type": "code",
      "source": [
        "with open(\"output.txt\", \"r\") as file:\n",
        "    content = file.read()\n",
        "    if content:\n",
        "        print(content)\n",
        "    else:\n",
        "        print(\"File is empty.\")\n"
      ],
      "metadata": {
        "colab": {
          "base_uri": "https://localhost:8080/"
        },
        "id": "zm49xxCrrgsP",
        "outputId": "806cfee6-6edc-4bee-d220-83eb6cf3af13"
      },
      "execution_count": null,
      "outputs": [
        {
          "output_type": "stream",
          "name": "stdout",
          "text": [
            "Hello, this is a test string.\n",
            "This line is appended.\n",
            "\n"
          ]
        }
      ]
    },
    {
      "cell_type": "markdown",
      "source": [
        "# 16. Demonstrate how to use memory profiling to check the memory usage of a small program.\n"
      ],
      "metadata": {
        "id": "KmW1gHMVrjOb"
      }
    },
    {
      "cell_type": "code",
      "source": [
        "# You need to install memory-profiler: !pip install memory-profiler\n",
        "from memory_profiler import memory_usage\n",
        "\n",
        "def my_function():\n",
        "    a = [i for i in range(100000)]\n",
        "    return sum(a)\n",
        "\n",
        "mem_usage = memory_usage(my_function)\n",
        "print(\"Memory usage:\", mem_usage)"
      ],
      "metadata": {
        "colab": {
          "base_uri": "https://localhost:8080/"
        },
        "id": "kli59TVQr6C7",
        "outputId": "3c0e103c-c7a3-470f-dc04-d30db6554f0c"
      },
      "execution_count": null,
      "outputs": [
        {
          "output_type": "stream",
          "name": "stdout",
          "text": [
            "Memory usage: [104.77734375, 104.77734375, 104.77734375, 104.77734375, 104.77734375, 104.77734375]\n"
          ]
        }
      ]
    },
    {
      "cell_type": "code",
      "metadata": {
        "colab": {
          "base_uri": "https://localhost:8080/"
        },
        "id": "80751211",
        "outputId": "51b686c8-d0f2-42b0-dd30-33b4b7b5553e"
      },
      "source": [
        "!pip install memory-profiler"
      ],
      "execution_count": null,
      "outputs": [
        {
          "output_type": "stream",
          "name": "stdout",
          "text": [
            "Collecting memory-profiler\n",
            "  Downloading memory_profiler-0.61.0-py3-none-any.whl.metadata (20 kB)\n",
            "Requirement already satisfied: psutil in /usr/local/lib/python3.12/dist-packages (from memory-profiler) (5.9.5)\n",
            "Downloading memory_profiler-0.61.0-py3-none-any.whl (31 kB)\n",
            "Installing collected packages: memory-profiler\n",
            "Successfully installed memory-profiler-0.61.0\n"
          ]
        }
      ]
    },
    {
      "cell_type": "markdown",
      "source": [
        "# 17. Write a Python program to create and write a list of numbers to a file, one number per line.\n"
      ],
      "metadata": {
        "id": "0yCSni79rr6u"
      }
    },
    {
      "cell_type": "code",
      "source": [
        "numbers = [1, 2, 3, 4, 5]\n",
        "with open(\"numbers.txt\", \"w\") as file:\n",
        "    for num in numbers:\n",
        "        file.write(f\"{num}\\n\")\n"
      ],
      "metadata": {
        "id": "wKpdTf3OrucS"
      },
      "execution_count": null,
      "outputs": []
    },
    {
      "cell_type": "markdown",
      "source": [
        "# 18. How would you implement a basic logging setup that logs to a file with rotation after 1MB?\n"
      ],
      "metadata": {
        "id": "eq-6zmWsrxQn"
      }
    },
    {
      "cell_type": "code",
      "source": [
        "import logging\n",
        "from logging.handlers import RotatingFileHandler\n",
        "\n",
        "handler = RotatingFileHandler(\"rotating.log\", maxBytes=1_000_000, backupCount=3)\n",
        "logging.basicConfig(handlers=[handler], level=logging.INFO)\n",
        "logging.info(\"This is a log message.\")\n"
      ],
      "metadata": {
        "id": "4-j8FcSasMqu"
      },
      "execution_count": null,
      "outputs": []
    },
    {
      "cell_type": "markdown",
      "source": [
        "# 19. Write a program that handles both IndexError and KeyError using a try-except block.\n"
      ],
      "metadata": {
        "id": "dQO6TWsYsTmH"
      }
    },
    {
      "cell_type": "code",
      "source": [
        "my_list = [1, 2, 3]\n",
        "my_dict = {\"a\": 10}\n",
        "\n",
        "try:\n",
        "    print(my_list[5])\n",
        "    print(my_dict[\"b\"])\n",
        "except IndexError:\n",
        "    print(\"IndexError caught\")\n",
        "except KeyError:\n",
        "    print(\"KeyError caught\")\n"
      ],
      "metadata": {
        "colab": {
          "base_uri": "https://localhost:8080/"
        },
        "id": "oi3vhVtxsWHg",
        "outputId": "67cdf9fa-bed3-428a-a423-329a461753a2"
      },
      "execution_count": null,
      "outputs": [
        {
          "output_type": "stream",
          "name": "stdout",
          "text": [
            "IndexError caught\n"
          ]
        }
      ]
    },
    {
      "cell_type": "markdown",
      "source": [
        "# 20. How would you open a file and read its contents using a context manager in Python?\n"
      ],
      "metadata": {
        "id": "dVeJ8D6hsbrZ"
      }
    },
    {
      "cell_type": "code",
      "source": [
        "with open(\"output.txt\", \"r\") as file:\n",
        "    content = file.read()\n",
        "    print(content)\n"
      ],
      "metadata": {
        "colab": {
          "base_uri": "https://localhost:8080/"
        },
        "id": "9SX7x_vosfW7",
        "outputId": "45330387-1557-4324-e968-5712c8543119"
      },
      "execution_count": null,
      "outputs": [
        {
          "output_type": "stream",
          "name": "stdout",
          "text": [
            "Hello, this is a test string.\n",
            "This line is appended.\n",
            "\n"
          ]
        }
      ]
    },
    {
      "cell_type": "markdown",
      "source": [
        "# 21. Write a Python program that reads a file and prints the number of occurrences of a specific word.\n"
      ],
      "metadata": {
        "id": "aVGmqIdbsihh"
      }
    },
    {
      "cell_type": "code",
      "source": [
        "word_count = 0\n",
        "target_word = \"Hello\"\n",
        "with open(\"output.txt\", \"r\") as file:\n",
        "    for line in file:\n",
        "        word_count += line.split().count(target_word)\n",
        "print(f\"The word '{target_word}' occurs {word_count} times.\")\n"
      ],
      "metadata": {
        "colab": {
          "base_uri": "https://localhost:8080/"
        },
        "id": "ixR2HBlCslHJ",
        "outputId": "781479ae-945f-4f55-e010-b14831862e23"
      },
      "execution_count": null,
      "outputs": [
        {
          "output_type": "stream",
          "name": "stdout",
          "text": [
            "The word 'Hello' occurs 0 times.\n"
          ]
        }
      ]
    },
    {
      "cell_type": "markdown",
      "source": [
        "# 22. How can you check if a file is empty before attempting to read its contents?\n"
      ],
      "metadata": {
        "id": "chczyfRxsoZN"
      }
    },
    {
      "cell_type": "code",
      "source": [
        "import os\n",
        "\n",
        "if os.path.exists(\"output.txt\") and os.path.getsize(\"output.txt\") > 0:\n",
        "    with open(\"output.txt\", \"r\") as file:\n",
        "        print(file.read())\n",
        "else:\n",
        "    print(\"File is empty or does not exist.\")\n"
      ],
      "metadata": {
        "colab": {
          "base_uri": "https://localhost:8080/"
        },
        "id": "aM46wUHAstoh",
        "outputId": "7036fb2f-89b0-41fd-fe68-5809b3a676c8"
      },
      "execution_count": null,
      "outputs": [
        {
          "output_type": "stream",
          "name": "stdout",
          "text": [
            "Hello, this is a test string.\n",
            "This line is appended.\n",
            "\n"
          ]
        }
      ]
    },
    {
      "cell_type": "markdown",
      "source": [
        "# 23. Write a Python program that writes to a log file when an error occurs during file handling.\n"
      ],
      "metadata": {
        "id": "7bvVvc2vs1qH"
      }
    },
    {
      "cell_type": "code",
      "source": [
        "import logging\n",
        "\n",
        "logging.basicConfig(filename=\"file_error.log\", level=logging.ERROR)\n",
        "\n",
        "try:\n",
        "    with open(\"missing.txt\", \"r\") as file:\n",
        "        content = file.read()\n",
        "except Exception as e:\n",
        "    logging.error(\"An error occurred while handling the file: %s\", e)\n"
      ],
      "metadata": {
        "colab": {
          "base_uri": "https://localhost:8080/"
        },
        "id": "ddipTOgdtHxA",
        "outputId": "cb678159-8356-432e-86ea-172a2ca1501f"
      },
      "execution_count": null,
      "outputs": [
        {
          "output_type": "stream",
          "name": "stderr",
          "text": [
            "ERROR:root:An error occurred while handling the file: [Errno 2] No such file or directory: 'missing.txt'\n"
          ]
        }
      ]
    }
  ]
}